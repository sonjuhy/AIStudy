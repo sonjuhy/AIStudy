{
 "cells": [
  {
   "cell_type": "code",
   "execution_count": 1,
   "metadata": {},
   "outputs": [
    {
     "ename": "ModuleNotFoundError",
     "evalue": "No module named 'torch'",
     "output_type": "error",
     "traceback": [
      "\u001b[1;31m---------------------------------------------------------------------------\u001b[0m",
      "\u001b[1;31mModuleNotFoundError\u001b[0m                       Traceback (most recent call last)",
      "Cell \u001b[1;32mIn[1], line 1\u001b[0m\n\u001b[1;32m----> 1\u001b[0m \u001b[38;5;28;01mimport\u001b[39;00m\u001b[38;5;250m \u001b[39m\u001b[38;5;21;01mtorch\u001b[39;00m\n\u001b[0;32m      2\u001b[0m \u001b[38;5;28;01mimport\u001b[39;00m\u001b[38;5;250m \u001b[39m\u001b[38;5;21;01mtorch\u001b[39;00m\u001b[38;5;21;01m.\u001b[39;00m\u001b[38;5;21;01mnn\u001b[39;00m\u001b[38;5;250m \u001b[39m\u001b[38;5;28;01mas\u001b[39;00m\u001b[38;5;250m \u001b[39m\u001b[38;5;21;01mnn\u001b[39;00m\n\u001b[0;32m      3\u001b[0m \u001b[38;5;28;01mimport\u001b[39;00m\u001b[38;5;250m \u001b[39m\u001b[38;5;21;01mtorch\u001b[39;00m\u001b[38;5;21;01m.\u001b[39;00m\u001b[38;5;21;01moptim\u001b[39;00m\u001b[38;5;250m \u001b[39m\u001b[38;5;28;01mas\u001b[39;00m\u001b[38;5;250m \u001b[39m\u001b[38;5;21;01moptim\u001b[39;00m\n",
      "\u001b[1;31mModuleNotFoundError\u001b[0m: No module named 'torch'"
     ]
    }
   ],
   "source": [
    "import torch\n",
    "import torch.nn as nn\n",
    "import torch.optim as optim\n",
    "import numpy as np\n",
    "import pandas as pd\n",
    "from sklearn.model_selection import train_test_split\n",
    "\n",
    "# 랜덤 데이터 생성\n",
    "np.random.seed(42)\n",
    "data_size = 1000\n",
    "\n",
    "# 조건 생성\n",
    "time = np.random.randint(0, 24, data_size)  # 시간 (0~23)\n",
    "wind_speed = np.random.randint(0, 11, data_size)  # 풍속 (0~10)\n",
    "cloud_cover = np.random.randint(0, 3, data_size)  # 구름양 (0, 1, 2)\n",
    "precipitation = np.random.randint(0, 11, data_size)  # 강수량 (0~10)\n",
    "\n",
    "# 결과 생성: 날씨 좋음(1) 또는 나쁨(0) 가정 규칙\n",
    "# 날씨가 좋음: 풍속 < 5, 구름양 < 2, 강수량 == 0\n",
    "result = ((wind_speed < 5) & (cloud_cover < 2) & (precipitation < 2)).astype(int)\n",
    "\n",
    "# 데이터프레임 생성\n",
    "data = pd.DataFrame({\n",
    "    # \"Time\": time,\n",
    "    \"WindSpeed\": wind_speed,\n",
    "    \"CloudCover\": cloud_cover,\n",
    "    \"Precipitation\": precipitation,\n",
    "    \"WeatherGood\": result\n",
    "})\n",
    "\n",
    "\n",
    "# 데이터 준비\n",
    "# X = data[[\"Time\", \"WindSpeed\", \"CloudCover\", \"Precipitation\"]].values  # 입력 데이터\n",
    "X = data[[\"WindSpeed\", \"CloudCover\", \"Precipitation\"]].values  # 입력 데이터\n",
    "y = data[\"WeatherGood\"].values  # 결과값 (0: 나쁨, 1: 좋음)\n",
    "\n",
    "# Train-Test Split\n",
    "X_train, X_test, y_train, y_test = train_test_split(X, y, test_size=0.2, random_state=42)\n",
    "\n",
    "# Tensor 변환\n",
    "X_train_tensor = torch.tensor(X_train, dtype=torch.float32)\n",
    "y_train_tensor = torch.tensor(y_train, dtype=torch.float32).unsqueeze(1)  # (N, 1) 형태\n",
    "X_test_tensor = torch.tensor(X_test, dtype=torch.float32)\n",
    "y_test_tensor = torch.tensor(y_test, dtype=torch.float32).unsqueeze(1)\n",
    "\n",
    "# RNN 입력 형태로 변환 (배치, 타임스텝, 특징)\n",
    "X_train_rnn = X_train_tensor.unsqueeze(1)  # (batch_size, seq_length=1, input_size=4)\n",
    "X_test_rnn = X_test_tensor.unsqueeze(1)\n"
   ]
  },
  {
   "cell_type": "code",
   "execution_count": 33,
   "metadata": {},
   "outputs": [],
   "source": [
    "class WeatherRNN(nn.Module):\n",
    "    def __init__(self, input_size, hidden_size, output_size):\n",
    "        super(WeatherRNN, self).__init__()\n",
    "        self.hidden_size = hidden_size\n",
    "        self.rnn = nn.RNN(input_size, hidden_size, batch_first=True)\n",
    "        self.fc = nn.Linear(hidden_size, output_size)\n",
    "        self.sigmoid = nn.Sigmoid()\n",
    "\n",
    "    def forward(self, x):\n",
    "        h0 = torch.zeros(1, x.size(0), self.hidden_size)  # 초기 hidden state\n",
    "        out, _ = self.rnn(x, h0)\n",
    "        out = self.fc(out[:, -1, :])  # 마지막 타임스텝의 출력\n",
    "        return self.sigmoid(out)\n"
   ]
  },
  {
   "cell_type": "code",
   "execution_count": 34,
   "metadata": {},
   "outputs": [
    {
     "name": "stdout",
     "output_type": "stream",
     "text": [
      "Epoch [100/500], Loss: 0.0684\n",
      "Epoch [200/500], Loss: 0.0577\n",
      "Epoch [300/500], Loss: 0.0448\n",
      "Epoch [400/500], Loss: 0.0376\n",
      "Epoch [500/500], Loss: 0.0318\n"
     ]
    }
   ],
   "source": [
    "# 모델 초기화\n",
    "# input_size = 4  # Time, WindSpeed, CloudCover, Precipitation\n",
    "input_size = 3  # WindSpeed, CloudCover, Precipitation\n",
    "hidden_size = 16\n",
    "output_size = 1  # WeatherGood\n",
    "model = WeatherRNN(input_size, hidden_size, output_size)\n",
    "\n",
    "# 손실 함수와 옵티마이저\n",
    "criterion = nn.BCELoss()  # Binary Cross Entropy Loss\n",
    "optimizer = optim.Adam(model.parameters(), lr=0.01)\n",
    "\n",
    "# 학습\n",
    "epochs = 500\n",
    "for epoch in range(epochs):\n",
    "    model.train()\n",
    "    optimizer.zero_grad()\n",
    "    outputs = model(X_train_rnn)\n",
    "    loss = criterion(outputs, y_train_tensor)\n",
    "    loss.backward()\n",
    "    optimizer.step()\n",
    "\n",
    "    if (epoch + 1) % 100 == 0:\n",
    "        print(f'Epoch [{epoch + 1}/{epochs}], Loss: {loss.item():.4f}')\n"
   ]
  },
  {
   "cell_type": "code",
   "execution_count": 35,
   "metadata": {},
   "outputs": [
    {
     "name": "stdout",
     "output_type": "stream",
     "text": [
      "Accuracy: 0.9950\n"
     ]
    }
   ],
   "source": [
    "# 모델 평가\n",
    "model.eval()\n",
    "with torch.no_grad():\n",
    "    y_pred = model(X_test_rnn)\n",
    "    y_pred_binary = (y_pred > 0.5).float()  # 0.5 기준 이진화\n",
    "\n",
    "    # 정확도 계산\n",
    "    accuracy = (y_pred_binary == y_test_tensor).sum().item() / y_test_tensor.size(0)\n",
    "    print(f'Accuracy: {accuracy:.4f}')\n"
   ]
  },
  {
   "cell_type": "code",
   "execution_count": 36,
   "metadata": {},
   "outputs": [
    {
     "name": "stdout",
     "output_type": "stream",
     "text": [
      "Sample 1: 84.57% chance of good weather\n",
      "Sample 2: 0.00% chance of good weather\n",
      "Sample 3: 99.91% chance of good weather\n",
      "Binary Predictions (Good Weather): [1. 0. 1.]\n"
     ]
    }
   ],
   "source": [
    "# 새로운 데이터로 추론\n",
    "# new_data = torch.tensor([[12, 3, 1, 0],  # 시간: 12시, 풍속: 3, 구름양: 1, 강수량: 0\n",
    "#                          [18, 8, 2, 5],  # 시간: 18시, 풍속: 8, 구름양: 2, 강수량: 5\n",
    "#                          [6, 1, 0, 0]],  # 시간: 6시, 풍속: 1, 구름양: 0, 강수량: 0\n",
    "#                         dtype=torch.float32).unsqueeze(1)  # (batch_size, seq_length=1, input_size=4)\n",
    "new_data = torch.tensor([[3, 1, 0],  # 풍속: 3, 구름양: 1, 강수량: 0\n",
    "                         [8, 2, 5],  # 풍속: 8, 구름양: 2, 강수량: 5\n",
    "                         [1, 0, 0]],  # 풍속: 1, 구름양: 0, 강수량: 0\n",
    "                        dtype=torch.float32).unsqueeze(1)  # (batch_size, seq_length=1, input_size=4)\n",
    "\n",
    "with torch.no_grad():\n",
    "    predictions = model(new_data)\n",
    "    binary_predictions = (predictions > 0.5).float()\n",
    "    # print(\"Predictions:\", predictions.squeeze().numpy()\n",
    "    # # 확률(%)로 변환\n",
    "    percentages = predictions.squeeze().numpy() * 100\n",
    "\n",
    "    # 출력\n",
    "    for i, p in enumerate(percentages):\n",
    "        print(f\"Sample {i + 1}: {p:.2f}% chance of good weather\")\n",
    "    print(\"Binary Predictions (Good Weather):\", binary_predictions.squeeze().numpy())\n"
   ]
  }
 ],
 "metadata": {
  "kernelspec": {
   "display_name": "venv",
   "language": "python",
   "name": "python3"
  },
  "language_info": {
   "codemirror_mode": {
    "name": "ipython",
    "version": 3
   },
   "file_extension": ".py",
   "mimetype": "text/x-python",
   "name": "python",
   "nbconvert_exporter": "python",
   "pygments_lexer": "ipython3",
   "version": "3.12.0"
  }
 },
 "nbformat": 4,
 "nbformat_minor": 2
}
